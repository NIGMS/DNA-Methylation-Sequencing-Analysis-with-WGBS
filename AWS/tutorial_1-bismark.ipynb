{
 "cells": [
  {
   "cell_type": "markdown",
   "id": "68d8723f-c078-43be-b457-ef23feb8c80c",
   "metadata": {},
   "source": [
    "# The WGBS data analysis tutorial 1 - Bismark pipeline \n",
    "## Overview\n",
    "\n",
    "In this tutorial, we’ll demonstrate how to use __[Bismark](https://github.com/FelixKrueger/Bismark)__ to map bisulfite-treated sequencing reads to a genome of interest and perform methylation calls in SageMaker Notebook instance from Amazon Web Services (AWS). Please refer to [Bismark's User Guide](http://felixkrueger.github.io/Bismark/) for more detailed usage and the commands used in the tutorial.  \n",
    "> **Input**: raw sequencing data (.fastq, .fastq.gz files)  \n",
    "> **Output**: methylation states/ratios (.bedgraph files)\n",
    "\n",
    "<img src=\"images/notebook1.png\" width=\"1000\" />\n",
    "\n",
    "This tutorial will cover:\n",
    "\n",
    "- [Installing tools in SageMaker notebook](#Install-tools-in-Vertex-AI-notebook)\n",
    "- [Importing the example dataset](#Importing-the-example-dataset)\n",
    "- [Running Bismark pipeline](#Running-bismark-pipeline)\n",
    "- [Visualization using IGV (Integrative Genomics Viewer)](#Visualization-using-IGV-(Integrative-Genomics-Viewer))"
   ]
  },
  {
   "cell_type": "markdown",
   "id": "95110be3",
   "metadata": {},
   "source": [
    "## Learning Objectives\n",
    "\n",
    "* **Mastering the Bismark pipeline for WGBS data analysis:**  The core objective is to learn how to use the Bismark suite of tools to process whole-genome bisulfite sequencing (WGBS) data, from raw reads to methylation calls.\n",
    "\n",
    "* **Understanding WGBS data processing steps:** Learners will gain a practical understanding of each stage in the WGBS workflow, including quality control (FastQC, MultiQC), adapter trimming (Trim Galore!), genome preparation, read alignment (Bismark), deduplication, methylation extraction, and report generation (Bismark2report, Bismark2summary).\n",
    "\n",
    "* **Utilizing command-line tools in a cloud environment (SageMaker Notebook):** The tutorial emphasizes using command-line tools within the AWS's SageMaker Notebook, providing experience with managing a computational environment and executing bioinformatics pipelines remotely.\n",
    "\n",
    "* **Interpreting bioinformatics results:** Learners will learn to interpret FastQC reports, MultiQC summaries, Bismark alignment statistics, and methylation call files.  They will also learn to identify potential biases in the data (e.g., adapter contamination, methylation bias).\n",
    "\n",
    "* **Visualizing methylation data with IGV:** The notebook teaches how to use the Integrative Genomics Viewer (IGV) to visualize both alignment data (.bam) and methylation profiles (.bedGraph) to explore the results.\n",
    "\n",
    "* **Working with cloud storage (Amazon S3):**  The tutorial involves downloading data from and potentially uploading results to Amazon S3 bucket, introducing learners to cloud-based data management.\n",
    "\n",
    "* **Installing and managing bioinformatics tools with conda and mamba:** The notebook demonstrates the use of conda and mamba for package management, creating a reproducible and consistent analysis environment.\n",
    "\n",
    "* **Applying bioinformatics concepts to a real-world dataset:** The tutorial uses a real-world WGBS dataset, allowing learners to apply their knowledge to a practical example and understand the biological context of the results."
   ]
  },
  {
   "cell_type": "markdown",
   "id": "952487b3",
   "metadata": {},
   "source": [
    "## Prerequisites\n",
    "\n",
    "* **Amazon Simple Storage Service (S3):** Essential for downloading the example dataset and reference genome. The notebook uses `aws s3` commands to interact with S3.\n",
    "\n",
    "* **Software Dependencies:** The notebook installs several bioinformatics tools using `mamba` (a conda package manager).  These include `fastqc`, `multiqc`, `bismark`, `trim-galore`, `bedtools`, `samtools`, `metilene`, and `igv-notebook`.  The notebook provides the commands to install these."
   ]
  },
  {
   "cell_type": "markdown",
   "id": "ef6c21aa-6cc7-4895-8473-416c914120e7",
   "metadata": {},
   "source": [
    "## Get Started\n",
    "### Install tools in Vertex AI notebook\n",
    "\n",
    "#### Conda \n",
    "__[Conda](https://docs.conda.io/en/latest/)__ is an open source package management system and environment management system. It can help to find and install packages, switch between different environments when you need to run different versions of tools, such as Python. \n",
    "\n",
    "User-managed notebook instances have a suite of packages and tools pre-installed. To test if conda is pre-installed, try the following command: `conda env list`. For a successful installation, a list of your environments appears. The default environment is called 'base', and should have a **\\*** in front of it."
   ]
  },
  {
   "cell_type": "code",
   "execution_count": null,
   "id": "6c1736ee-3fbd-4074-8f44-09b4e1a7509a",
   "metadata": {},
   "outputs": [],
   "source": [
    "! conda env list"
   ]
  },
  {
   "cell_type": "markdown",
   "id": "37bdd323-c35b-4e41-a623-24ee7e263e11",
   "metadata": {},
   "source": [
    "#### Installation of the tools for Tutorial 1 and 2 using <code>mamba</code>\n",
    "\n",
    "[**mamba**](https://mamba.readthedocs.io/en/latest/user_guide/mamba.html) is a re-implementation of the conda package manager in C++. It uses the same commands and configuration options as conda. The only difference is that you should still use conda for activation and deactivation."
   ]
  },
  {
   "cell_type": "markdown",
   "id": "f0dbeb53-d416-40a3-b5b9-64ea7e58ea62",
   "metadata": {},
   "source": [
    "<div class= \"alert alert-block alert-info\"><b>Tip</b>: use <code>\\</code> to break a long command into multiple lines</div>"
   ]
  },
  {
   "cell_type": "code",
   "execution_count": null,
   "id": "ec7cb44d-c9fb-485e-b857-18fc3be3abfa",
   "metadata": {},
   "outputs": [],
   "source": [
    "! mamba install -y -c conda-forge -c bioconda \\\n",
    "    fastqc \\\n",
    "    multiqc \\\n",
    "    bismark \\\n",
    "    trim-galore \\\n",
    "    bedtools \\\n",
    "    samtools \\\n",
    "    metilene"
   ]
  },
  {
   "cell_type": "markdown",
   "id": "4ccc3f4b-bdc8-40f3-be16-ade14562ad24",
   "metadata": {},
   "source": [
    "---\n",
    "## **Importing the example dataset**"
   ]
  },
  {
   "cell_type": "markdown",
   "id": "374f0472-ace6-4bec-918e-a9cb6eebec2b",
   "metadata": {},
   "source": [
    "#### Set up the environment\n",
    "The current working directory is where you are currently working in, and can be printed using command `pwd`. To organize the output files in this tutorial, let's create a new directory called `Tutorial_1` in the working directory and some sub-directories inside `Tutorial_1` to save different outputs from different steps."
   ]
  },
  {
   "cell_type": "code",
   "execution_count": null,
   "id": "775b7955-f05f-4334-9192-807cf464617f",
   "metadata": {},
   "outputs": [],
   "source": [
    "# Show current working directory\n",
    "! pwd\n",
    "# Create directories\n",
    "! mkdir -p Tutorial_1\n",
    "! mkdir -p Tutorial_1/ref_genome\n",
    "! mkdir -p Tutorial_1/fastqc\n",
    "! mkdir -p Tutorial_1/trimmed"
   ]
  },
  {
   "cell_type": "markdown",
   "id": "cd74464d-d6c3-4388-822b-3ca3ebb93934",
   "metadata": {},
   "source": [
    "#### About the example dataset\n",
    "\n",
    "This small example dataset was created by the [snakePipes WGBS pipeline](https://snakepipes.readthedocs.io/en/latest/content/workflows/WGBS.html) from paper: [Habibi, Ehsan, et al. Cell stem cell 13.3 (2013): 360-369](https://pubmed.ncbi.nlm.nih.gov/23850244/). \n",
    "\n",
    "The study of epigenetic mechanisms in the establishment and maintenance of the pluripotent state, as well as in the differentiation process, is an area of intense investigation in embryonic stem cell (ESCs) biology. In addition, since ESCs and cancer cells share certain phenotypic characteristics, such as the ability to be propagated in long-term culture, there has been interest in establishing whether they share certain epigenetic characteristics. This paper shows that the use of two kinase inhibitors (2i) enables derivation of mouse ESCs in the pluripotent ground state. From their WGBS data, we can see that male 2i ESCs are globally hypomethylated compared to conventional ESCs maintained in serum. \n",
    "\n",
    "<img src=\"images/1_data_graph.jpg\" width=\"400\" />\n",
    "\n",
    "The original data are present in the NCBI GEO database with the accession number: GSE41923. In this example dataset, 4 samples were selected: two from mouse ESCs with 2i enabled derivations, and two from conventional ESCs maintained in serum. The sequences were down sampled to only contain the reads from the region: chr6:4000000-6000000 in the mouse genome.\n",
    "\n",
    "#### Download the example dataset and reference genome from an Amazon S3 bucket.\n",
    "\n",
    "This WGBS example dataset was stored in a **Amazon S3 bucket**. You can use `aws s3` commands to access and manage the cloud storage. \n",
    "\n",
    "Here are some examples of how to use the `aws s3` tool to create and delete buckets; move, copy, and rename objects in the bucket ([aws s3 quickstart](https://docs.aws.amazon.com/cli/latest/userguide/cli-services-s3.html)):\n",
    "> - `aws s3` uses the prefix `s3://` to indicate a resource in Amazon S3: `s3://BUCKET_NAME/OBJECT_NAME`.\n",
    "> - Create an S3 bucket: `aws s3 mb s3://BUCKET_NAME --region us-east-1`. The bucket you created can be viewed in the AWS Management Console by selecting: Services -> S3. Then, choose the bucket name from the list.\n",
    "> - Copy an object/file to a bucket: `aws s3 cp OBJECT_NAME s3://BUCKET_NAME`\n",
    "> - Download an object from your bucket: `aws s3 cp s3://BUCKET_NAME/OBJECT_NAME OBJECT_NAME`\n",
    "> - List contents of an S3 bucket: `aws s3 ls s3://BUCKET_NAME`\n",
    "> - Delete an object: `aws s3 rm s3://BUCKET_NAME/OBJECT_NAME`\n",
    "\n",
    "To download this example dataset, copy the files from the storage bucket to the Tutorial_1 directory we just created using `aws s3 cp`. After decompressing the file, the resulting files should be in the sub-directory of Tutorial_1/fastq, including eight sequence (.fastq.gz) files, one sample sheet (.tsv), and one CpG island annotation file (.bed) from the targeted genome region."
   ]
  },
  {
   "cell_type": "code",
   "execution_count": null,
   "id": "daa2a936-eec0-46a0-901c-d02456071b5d",
   "metadata": {},
   "outputs": [],
   "source": [
    "# Download the example dataset from a Amazon S3 bucket\n",
    "! aws s3 cp s3://nigms-sandbox/dna-methyl/Habibi2013_chr6F3A.tar.gz Tutorial_1\n",
    "# Decompress the downloaded file\n",
    "! cd Tutorial_1 && tar -xvzf Habibi2013_chr6F3A.tar.gz\n",
    "# Delete the orginal compressed file\n",
    "! rm Tutorial_1/Habibi2013_chr6F3A.tar.gz"
   ]
  },
  {
   "cell_type": "markdown",
   "id": "4f4f8d31-1035-4ec9-bcaf-1d34493d8b07",
   "metadata": {},
   "source": [
    "Download the **reference genome** in the same way and place it in the `ref_genome` folder. The genome should be in FASTA format, and can be downloaded from NCBI or Ensemble websites. For this example dataset, we will only use the sequences from GRCm39 chromosome 6."
   ]
  },
  {
   "cell_type": "code",
   "execution_count": null,
   "id": "dc94be73-c228-4021-b22f-8e3590f88901",
   "metadata": {},
   "outputs": [],
   "source": [
    "! aws s3 cp s3://nigms-sandbox/dna-methyl/Mus_musculus.GRCm39.dna.chromosome.6.fa Tutorial_1/ref_genome"
   ]
  },
  {
   "cell_type": "markdown",
   "id": "2e531a87-97ae-4092-8a50-54170070306c",
   "metadata": {},
   "source": [
    "---\n",
    "## **Running Bismark pipeline**\n",
    "\n",
    "#### Step 1. FastQC \n",
    "\n",
    "[**FastQC**](https://www.bioinformatics.babraham.ac.uk/projects/fastqc/) is simple tool that allows you to do some quality control checks on raw sequence data coming from high-throughput sequencing pipelines. It provides a modular set of analyses that you can use to give a quick impression of whether your data has any problems of which you should be aware before doing any further analysis. You can find examples of \"good\" and \"bad\" sequencing data from the [FastQC](https://www.bioinformatics.babraham.ac.uk/projects/fastqc/) website, in section \"Example Reports\". \n",
    "\n",
    "Run FastQC on the sequence files and the fastqc reports will be saved in Tutorial_1/fastqc. The `for` loop iterates through all the fastq.gz files in the Tutorial_1 directory and run `fastqc` each one of them separately."
   ]
  },
  {
   "cell_type": "code",
   "execution_count": null,
   "id": "4a568167-64d4-4437-accc-cd28fa7004c0",
   "metadata": {},
   "outputs": [],
   "source": [
    "! for file in Tutorial_1/fastq/*.gz; do fastqc -q -o Tutorial_1/fastqc \"${file}\"; done;"
   ]
  },
  {
   "cell_type": "markdown",
   "id": "bb434ff2-ab52-4dc0-93bc-ec4acae22980",
   "metadata": {},
   "source": [
    "After running FastQC, we can use Python code below and HTML support to display results in-line (using one fastqc report from SRX202087_R1 as an example): "
   ]
  },
  {
   "cell_type": "code",
   "execution_count": null,
   "id": "e00a553e-8115-4d52-a9db-9d7c2b5cbcf5",
   "metadata": {},
   "outputs": [],
   "source": [
    "from IPython.display import IFrame\n",
    "IFrame(src='./Tutorial_1/fastqc/SRX202087_R1_fastqc.html', width=1200, height=500)"
   ]
  },
  {
   "cell_type": "markdown",
   "id": "4a108da6-fb87-4050-b1de-476a4be641ea",
   "metadata": {},
   "source": [
    "#### Step 2. MultiQC (optional)\n",
    "__[MultiQC](https://multiqc.info/)__ can aggregate results from bioinformatics analysis across many samples into a single report. In our case, it reads in the FastQC reports and generates a compiled report for all the eight analyzed FASTQ files, and the report will be saved in `Tutorial_1/multiqc`. We can also view the report in .html format:"
   ]
  },
  {
   "cell_type": "code",
   "execution_count": null,
   "id": "cd0711bd-cca5-46c8-a4bc-de09600a6678",
   "metadata": {},
   "outputs": [],
   "source": [
    "# Run multiqc to summarize all the fastqc reports\n",
    "!multiqc -f -p  Tutorial_1/fastqc -o Tutorial_1/multiqc\n",
    "\n",
    "# View multiqc report\n",
    "from IPython.display import IFrame\n",
    "IFrame(src='Tutorial_1/multiqc/multiqc_report.html', width=1200, height=400)"
   ]
  },
  {
   "cell_type": "markdown",
   "id": "3cbdf7bb-58eb-412f-8a51-c48c2269da58",
   "metadata": {},
   "source": [
    "#### Step 3. Trim the adapters and low quality sequence reads\n",
    "\n",
    "Adapter sequences should be removed from reads because they interfere with downstream analyses, such as alignment of reads to a reference. In the FastQC report, the adapter content plot shows the percentage of reads (y-axis), which has an adapter starting at a particular position along a read (x-axis). And if the reads were fragmentaed to lower than than the target molecule length, high propotion of reads with adapters will be observed (right).\n",
    "\n",
    "<img src=\"images/1-adapter_content.png\" width=\"500\" />\n",
    "\n",
    "In this tutorial, we use __[Trim Galore!](https://www.bioinformatics.babraham.ac.uk/projects/trim_galore/)__ for adaptor trimming and quality control. Use the `--fastqc` flag to run FastQC again to check the trimming results. Use flag `-j` to indicate the number of cores to be used for trimming. The results (trimmed sequences and FastQC report) will be kept in Tutorial_1/trimmed directory."
   ]
  },
  {
   "cell_type": "code",
   "execution_count": null,
   "id": "eccd04d7-0603-474b-bbf9-63b1134685e3",
   "metadata": {},
   "outputs": [],
   "source": [
    "! trim_galore -j 4 --paired --illumina -o Tutorial_1/trimmed --fastqc Tutorial_1/fastq/SRX*.gz"
   ]
  },
  {
   "cell_type": "markdown",
   "id": "1070cc02-b431-449b-bfdf-8d28e0d0134c",
   "metadata": {},
   "source": [
    "#### Step 4. Genome preparation\n",
    "\n",
    "In order to align the bisulfite-treated reads to reference genome, the reference genome need to be converted as well. This step can also be called <b>genome conversion</b>. This step will generated bisulfite treated forward strand index of a reference genome (C->T converted) and a bisulfite treated reverse strand index of the genome (G->A conversion of the forward strand). If missing this step, the bisulfite-treated reads will not aligned to the normal reference genome or will align with many mismatches.\n",
    "\n",
    "<img src=\"images/1-genome_convertion.png\" width=\"600\" /> \n",
    "\n",
    "In this tutorial, run the command `bismark_genome_preparation` to convert the Cs in the reference genome to Ts, and Gs to As in the complementary strand. The converted geneome is still in the folder of Tutorial_1/ref_genome. Depending on the genome size, this process can take hours to finish. "
   ]
  },
  {
   "cell_type": "code",
   "execution_count": null,
   "id": "9a65d687-588a-4be3-bf2a-6ebaf7191a41",
   "metadata": {},
   "outputs": [],
   "source": [
    "! bismark_genome_preparation Tutorial_1/ref_genome"
   ]
  },
  {
   "cell_type": "markdown",
   "id": "b56945ac-bde8-41dc-b8b5-6299032627fd",
   "metadata": {},
   "source": [
    "#### Step 5. Run Bismark (alignment)\n",
    "In this step, the quality and adapter trimmed reads will be mapped to the bisulfite converted reference genome using command `bismark`. The basic usage of this command is: \n",
    "\n",
    "`bismark [options] --genome <genome_folder> {-1 <mates1> -2 <mates2> | <singles>}`\n",
    "\n",
    "**Running time**. This is the most important step in the whole Bismark workflow and also requires the most computational resources. For large genomes such as human or mouse, the alignment step could take several days depending on the sequencing depth and computational resources allocated.  \n",
    "\n",
    "**Effect of bisulfite treatment of DNA**. As cytosine methylation is not symmetrical, the two strands of DNA in the reference genome must be considered separately. Bisulfite conversion of genomic DNA and subsequent PCR amplification gives rise to two PCR products and up to **four** potentially different DNA fragments for any given locus. OT, original top strand; CTOT, strand complementary to the original top strand; OB, original bottom strand; and CTOB, strand complementary to the original bottom strand. \n",
    "> <img src=\"images/1_4DNA_strands.png\" width=\"600\"/>\n",
    "\n",
    "All four DNA strands that arise through bisulfite treatment and subsequent PCR amplification can be sequenced with the same frequency in non-directional libraries, while for directional libraries, adapters are attached to the DNA fragments such that only the original top or bottom strands will be sequenced. In the Bismark alignment step, `--directional` is set to default, so only report OT and OB strands.\n",
    "\n",
    "**Output alignment**. The output .bam files are the binary version of the SAM (Sequence Alignment/Map) format. Please see [here](https://github.com/FelixKrueger/Bismark/blob/master/docs/bismark/alignment.md#bismark-bamsam-output-default) for more detailed explanation of the output .bam/.sam format, where the `XM-tag` is the methylation call string to indicate the methylated status of each C(tyosine) in different contexts: CG (or CpG), CHG or CHH (where H correspond to A, T or C). The methylation call string contains a dot ‘.’ for every position in the BS-read not involving a cytosine,\n",
    "or contains one of the following letters (z,Z,x,X,h,H) for the three different cytosine methylation contexts (UPPER CASE = METHYLATED, lower case = unmethylated).\n",
    "> <img src=\"images/1_bismark_bam.png\" width=\"600\" />\n",
    "\n",
    "In plants and other organisms, DNA methylation is found in three different sequence contexts: CG (or CpG), CHG or CHH (where H correspond to A, T or C). In mammals, however, DNA methylation is almost exclusively found in CpG dinucleotides, with the cytosines on both strands being usually methylated.\n",
    "\n",
    "To do the `bismark alignment`, we use a `for` loop to iterate through all the forward reads files (have '*_R1_val_1*' in the file names) in 'trimmed' directory, and run the `bismark` command by providing the reference genome location, and both the forward and reverse reads (by replacing '*R1_val_1*' with '*R2_val_2*' in the sequence file names) for each sample. Flag `-o` specifies the output directory. The resulting alignment files (.bam) will be saved into the Tutorial_1/bismark directory, and more details can be found in the report file from the same folder."
   ]
  },
  {
   "cell_type": "code",
   "execution_count": null,
   "id": "04cb9059-795f-4319-9d4e-c5e0b4fcc3c2",
   "metadata": {},
   "outputs": [],
   "source": [
    "! for file_name in Tutorial_1/trimmed/*_R1_val_1.fq.gz; do \\\n",
    "    bismark --genome Tutorial_1/ref_genome/ -1 ${file_name} -2 ${file_name//_R1_val_1/_R2_val_2} -o Tutorial_1/bismark; \\\n",
    "done;"
   ]
  },
  {
   "cell_type": "markdown",
   "id": "61be513c-5bdf-42a9-a03b-ed41d771c120",
   "metadata": {},
   "source": [
    "#### Step 6. De-duplicate \n",
    "This step removes alignments with identical mapping position to avoid technical duplication in the results. Given a large genome with moderate coverage, it is unlikely to sequence several genuine copies of the same fragment amongst so many possible fragments with different start sites:  \n",
    "> <img src=\"images/1_complex_library.png\" width=\"500\"/>   \n",
    "\n",
    "Therefore, a high level of duplication is more likely to indicate some kind of enrichment bias (eg PCR over amplification). \n",
    "\n",
    "But this step is not advisable for RRBS or other target enrichment methods where higher coverage is either desired or expected. We use command `deduplicate_bismark` below to perform the de-duplication, where `-p` stands for pair-end reads and `--bam` specifies the alignment files need to be de-duplicated."
   ]
  },
  {
   "cell_type": "code",
   "execution_count": null,
   "id": "366ca6d4-fa60-402a-9594-9ec6dea1ba13",
   "metadata": {},
   "outputs": [],
   "source": [
    "! deduplicate_bismark -p --output_dir Tutorial_1/bismark --bam Tutorial_1/bismark/*.bam "
   ]
  },
  {
   "cell_type": "markdown",
   "id": "9b76fb83-3d71-4e68-bd11-11ab5bde3e17",
   "metadata": {},
   "source": [
    "<div class=\"alert alert-block alert-success\"><b>Note</b>: when running in a Jupyter notebook, there might an error involving samtools (also in step 8) saying '<em>samtools view: writing to standard output failed: Broken pipe samtools view: error closing standard output: -1</em>'. It can be ignored since it does not change the results. This error can be avoided if running in a terminal instead of a notebook.</div>"
   ]
  },
  {
   "cell_type": "markdown",
   "id": "e7e02055-79c7-4f77-9669-43fd62479ff3",
   "metadata": {},
   "source": [
    "#### Step 7. Get methylation ratios \n",
    "\n",
    "This step operates on Bismark alignment files and extracts the methylation call for every single C analyzed. `--gzip` is used to compress the output files in .gz format.\n",
    "\n",
    "**Strand-specific methylation output files** (default): The position of every single C will be written out to a new output file, depending on its context (CpG, CHG or CHH), whereby methylated Cs will be labeled as forward reads (+), non-methylated Cs as reverse reads (-). \n",
    "\n",
    "**Optional bedGraph output**. Alternatively, the output of the methylation extractor can be transformed into a `.bedGraph` and `.coverage` file using the option `--bedGraph`. These files can be used for [visualization](#Visualization-using-IGV-(Integrative-Genomics-Viewer)) later using tools such as Integrative Genomics Viewer. For the `.bedGraph` format, there will be 4 columns: chromosome, start position, end position, methylation percentage. For `.coverage` (bismark.cov.gz) format, there will be two additional columns: chromosome, start position, end position, methylation percentage, count methylated, count unmethylated. \n",
    "\n",
    "**M-bias plot data**. A methylation bias plot (M-bias plot) shows the methylation proportion across each possible position in the read. The data for the M-bias plot is written into a text file and is in the following format: \n",
    "\\<read position\\> \\<count methylated\\> \\<count unmethylated\\> \\<% methylation\\> \\<total coverage\\>. The plot will be generated in the next step (step 8) using `bismark2report`. M-bias plot can reveal methylation bias at certain positions of reads. For example, a 3’-end-repair bias at the first couple of positions in read 2 of paired-end reads (SRX202087):  \n",
    "> <img src=\"images/1_mbias.png\" width=\"700\"/>\n",
    "\n",
    "`--ignore_r2 2` will ignore the first 2 bp from the 5' end of Read 2 of paired-end sequencing results only. Since the first couple of bases in Read 2 of BS-Seq experiments show a severe bias towards non-methylation as a result of end-repairing sonicated fragments with unmethylated cytosines (see M-bias plot). These artificial cytosines incorporated during the end repair step of library preparation will decrease the methylation level at the corresponding positions. It is recommended that the first couple of bp of Read 2 are removed before starting downstream analysis.\n",
    "\n",
    "All the results from this step will be saved in directory Tutorial_1/bismark as well."
   ]
  },
  {
   "cell_type": "code",
   "execution_count": null,
   "id": "0052c588-c443-4f77-9e28-7fcb9fb6fedf",
   "metadata": {},
   "outputs": [],
   "source": [
    "! bismark_methylation_extractor --gzip --bedGraph --ignore_r2 2 -o Tutorial_1/bismark Tutorial_1/bismark/*deduplicated.bam"
   ]
  },
  {
   "cell_type": "markdown",
   "id": "9855179f-507f-4c04-8559-6b41ad4f9cdd",
   "metadata": {},
   "source": [
    "You can check the output files using the `zcat` command, since they were compressed. For example, the following two commands showing the first 10 rows of the output methylation levels of sample SRX20287 in `.bedGraph` and `.bismark.cov` format:"
   ]
  },
  {
   "cell_type": "code",
   "execution_count": null,
   "id": "5f789349-40ec-4d25-b308-c2772094c549",
   "metadata": {},
   "outputs": [],
   "source": [
    "! zcat Tutorial_1/bismark/SRX202087_R1_val_1_bismark_bt2_pe.deduplicated.bedGraph.gz | head -n 10"
   ]
  },
  {
   "cell_type": "code",
   "execution_count": null,
   "id": "ff63dfc6-e0c2-4210-99ed-edd100dab334",
   "metadata": {},
   "outputs": [],
   "source": [
    "! zcat Tutorial_1/bismark/SRX202087_R1_val_1_bismark_bt2_pe.deduplicated.bismark.cov.gz | head -n 10"
   ]
  },
  {
   "cell_type": "markdown",
   "id": "c868907a-2278-4c3c-8b49-4f734ad149ab",
   "metadata": {},
   "source": [
    "#### Step 8. Generate report and summary \n",
    "The command `bismark2report` will generate a graphical HTML report for each sample (including the M-bias plot), using the reports generated from the previous steps (alignment, de-duplication, methylation extraction). The command `bismark2summary` will produce a summary HTML report for all the samples in the directory. To view the graphs in the HTML reports in Jupyter notebook, after opening the HTML file, you might need to click `trust HTML` in the top left corner of the HTML file."
   ]
  },
  {
   "cell_type": "code",
   "execution_count": null,
   "id": "8c554e5f-5cec-4fe8-a16f-fb94d8b1fb3b",
   "metadata": {},
   "outputs": [],
   "source": [
    "! cd Tutorial_1/bismark && bismark2report\n",
    "! cd Tutorial_1/bismark && bismark2summary"
   ]
  },
  {
   "cell_type": "code",
   "execution_count": null,
   "id": "ffc7edfb-869a-42b2-98e3-2e9e79547beb",
   "metadata": {},
   "outputs": [],
   "source": [
    "# Display the final summary from bismark workflow, including all 4 samples\n",
    "from IPython.display import IFrame\n",
    "IFrame(src='Tutorial_1/bismark/bismark_summary_report.txt', width=1000, height=400)"
   ]
  },
  {
   "cell_type": "markdown",
   "id": "269514d7-5ead-4176-ba11-b211041b75a9",
   "metadata": {},
   "source": [
    "#### Important output files for downstream analysis\n",
    "\n",
    "The Bismark methylation extractor (step 7) can output files in `.bedGraph` and `.cov` format with the methylation levels (percentage of methylated cytosine) at each position. These files can be used as input for downstream analysis, such as identification of differentially methylated regions.\n"
   ]
  },
  {
   "cell_type": "markdown",
   "id": "bb468d2f-9023-498e-918e-3053d33efdc9",
   "metadata": {},
   "source": [
    "---\n",
    "## **Visualization using IGV (Integrative Genomics Viewer)**\n",
    "\n",
    "The __[Integrative Genomics Viewer (IGV)](https://software.broadinstitute.org/software/igv/)__ is an interactive tool for the visual exploration of genomic data. It supports flexible integration of all the common types of genomic data and metadata. IGV supports many different file formats, such as .bam, .bed, GFF/GTF, .fasta. For a full list of **file formats** IGV supported, please visit https://software.broadinstitute.org/software/igv/FileFormats. \n",
    "\n",
    "IGV can be downloaded as a desktop application, and it also has a JavaScript version that can embed IGV in the web apps. The `igv-notebook` we are going to use in this tutorial is a Python package which wraps igv.js for embedding it in an IPython notebook. \n",
    "\n",
    "#### Basic usage\n",
    "- Select reference genome - IGV hosts dozens of genomes and you can load other genomes too\n",
    "- Load data tracks\n",
    "- Navigate\n",
    "    - Zoom in/out - from whole genome view to base pair resolution\n",
    "    - Scroo/pan - view neighboring regions\n",
    "    - Jump to locus - enter coordinates or name"
   ]
  },
  {
   "cell_type": "markdown",
   "id": "351d564e-e539-4e41-84e0-e6a30db62ea9",
   "metadata": {},
   "source": [
    "#### Install `igv-notebook` \n",
    "\n",
    "Install igv-notebook. The kernel we are using is the default Python 3 (ipykernel) Vertex AI kernel. We are installing igv-notebook with `pip` below:"
   ]
  },
  {
   "cell_type": "code",
   "execution_count": null,
   "id": "9cbdcef8-9571-49b3-a540-fd75172bfc02",
   "metadata": {},
   "outputs": [],
   "source": [
    "! pip install igv-notebook"
   ]
  },
  {
   "cell_type": "markdown",
   "id": "f02b6a02-23f3-4c79-a493-66128d034905",
   "metadata": {},
   "source": [
    "#### Initialize IGV\n",
    "Create a browser \"b\", showing a mouse reference mm39 from chromosome 6. You can change the settings in the browser interactively. The output should like this:  \n",
    "> <img src=\"images/1_igv1.png\" width = \"900\"/>"
   ]
  },
  {
   "cell_type": "code",
   "execution_count": null,
   "id": "32d5808b-91d7-4d37-88cb-3914f2ae8a20",
   "metadata": {},
   "outputs": [],
   "source": [
    "import igv_notebook\n",
    "igv_notebook.init()\n",
    "\n",
    "b = igv_notebook.Browser(\n",
    "    {\n",
    "        \"genome\": \"mm39\",\n",
    "        \"locus\": \"chr6:4,733,000-4,749,000\"\n",
    "    }\n",
    ")"
   ]
  },
  {
   "cell_type": "markdown",
   "id": "f68431aa-160d-454a-b4dd-cfe362ecdadb",
   "metadata": {},
   "source": [
    "### Load data tracks\n",
    "IGV displays data in horizontal rows called **tracks**. Typically, each track represents one sample or experiment. Track names are listed in the far-left panel. Legibility of the names depends on the height of the tracks, i.e., the smaller the track the less legible the name. There are different types of tracks (different file formats) that IGV can display:  \n",
    "- **Data tracks** display numeric values, such as the methylation levels in our tutorial\n",
    "- **Feature tracks** identify genomic features. For an example, see the Refseq Genes track, which IGV loads when you select a genome.\n",
    "- **Alignment Track** display alignments \n",
    "\n",
    "#### Indexing alignment \n",
    "\n",
    "IGV requires that both SAM and BAM files be **sorted** by position and **indexed**, and that the index files follow a specific naming convention. Specifically, a BAM index file should be named by appending `.BAI` to the BAM file name. \n",
    "\n",
    "To view the alignment files generated from Step 6 in this tutorial, we first need to sort the alignment files (.bam) to generate the index (.bai) files: (the files will be found in `Tutorial_1/bismark` directory)"
   ]
  },
  {
   "cell_type": "code",
   "execution_count": null,
   "id": "133668a8-9b4b-4a9f-81fd-86725a1402f7",
   "metadata": {},
   "outputs": [],
   "source": [
    "! samtools sort Tutorial_1/bismark/SRX271141_R1_val_1_bismark_bt2_pe.deduplicated.bam -o Tutorial_1/bismark/SRX271141.sort.bam\n",
    "! samtools index Tutorial_1/bismark/SRX271141.sort.bam"
   ]
  },
  {
   "cell_type": "markdown",
   "id": "2b1b9fe1-517e-4e85-9a8a-a2fcb933dfd1",
   "metadata": {},
   "source": [
    "You can use the following code to sort and index all the alignment generated in this tutorial:\n",
    "```bash\n",
    "# Sort alignment files\n",
    "! for i in Tutorial_1/bismark/*deduplicated.bam; do samtools sort $i -o $i.sort.bam; samtools index $i.sort.bam;done\n",
    "# Rename the output files for shorter names\n",
    "! for f in Tutorial_1/bismark/*sort.bam* ; do mv \"$f\" \"$(echo \"$f\" | sed s/_R1_val_1_bismark_bt2_pe.deduplicated.bam//)\"; done\n",
    "```"
   ]
  },
  {
   "cell_type": "markdown",
   "id": "156e533b-b111-4788-883b-ecd5811619b3",
   "metadata": {},
   "source": [
    "#### Load and view the alignment file (and its index) to igv-notebook.\n",
    "\n",
    "Start a new browser \"b2\", and load the alignment .bam and its index file .bai into the browser:"
   ]
  },
  {
   "cell_type": "code",
   "execution_count": null,
   "id": "24117698-6013-4a55-bd91-dea1a7f8c61e",
   "metadata": {},
   "outputs": [],
   "source": [
    "b2 = igv_notebook.Browser(\n",
    "    {\n",
    "       \"genome\": \"mm39\",\n",
    "       \"locus\": \"chr6:4,733,000-4,749,000\"\n",
    "    }\n",
    ")\n",
    "b2.load_track({\n",
    "    \"name\": \"SRX271141\",\n",
    "    \"path\": \"Tutorial_1/bismark/SRX271141.sort.bam\",\n",
    "    \"indexPath\": \"Tutorial_1/bismark/SRX271141.sort.bam.bai\",\n",
    "    \"format\": \"bam\",\n",
    "    \"type\": \"alignment\",\n",
    "})"
   ]
  },
  {
   "cell_type": "markdown",
   "id": "da63305e-8015-4639-bb7f-4b04a0504105",
   "metadata": {},
   "source": [
    "<div class=>"
   ]
  },
  {
   "cell_type": "markdown",
   "id": "45e2a748-230b-4700-a5a0-14ea44f5570c",
   "metadata": {},
   "source": [
    "By default, IGV dynamically calculates and displays the default **coverage track** for an alignment file. When IGV is zoomed to the alignment read visibility threshold (by default, 30 KB), the coverage track displays the depth of the reads displayed at each locus as a gray bar chart. If a nucleotide differs from the reference sequence in greater than 20% of quality weighted reads, IGV colors the bar in proportion to the read count of each base (A, C, G, T). You can left-click the bar to see the actual percentages.\n",
    "\n",
    "<img src=\"images/1_igv2.png\" width=\"1000\" />\n",
    "\n",
    "For the **alignment tracks**, IGV uses color and other visual markers to highlight potential genetic alterations in reads against a reference sequence. Genetic alternations include single nucleotide variations, structural variations, and aneuploidy. Structural variations include insertions, deletions, inversions, tandem duplications, translocations, and other more complex rearrangements. You can explore more options when clicking the pop-up menu for the alignment track on the right side. For more detailed explanation of read colors, please visit https://software.broadinstitute.org/software/igv/AlignmentData. "
   ]
  },
  {
   "cell_type": "markdown",
   "id": "b0ac59d7-0997-4208-870f-08c10e1ff92c",
   "metadata": {},
   "source": [
    "#### View the methylation levels (.bedgraph files)\n",
    "\n",
    "The bedGraph format allows display of continuous-valued data in track format. This display type is useful for probability scores and transcriptome data. For more information on this file format, see the UCSC Genome Bioinformatics web site description at http://genome.ucsc.edu/goldenPath/help/bedgraph.html.\n",
    "\n",
    "Here, you can load the generated `.bedgraph` files in this tutorial to view the methylation percentage at each position. The IGV can handle the compressed file .gz, so there's no need to decompress the files. Colors can be changed using the code with the key word `color`, or in the track pop-up menu -> \"set track color\". "
   ]
  },
  {
   "cell_type": "code",
   "execution_count": null,
   "id": "453a0786-2013-4e7f-8b26-6bcb7c2c27f4",
   "metadata": {},
   "outputs": [],
   "source": [
    "b3 = igv_notebook.Browser(\n",
    "    {\n",
    "       \"genome\": \"mm39\",\n",
    "        \"locus\": \"chr6:4,500,000-5,500,000\"\n",
    "    }\n",
    ")\n",
    "b3.load_track({\n",
    "    \"name\": \"SRX271141_bed\",\n",
    "    \"path\": \"Tutorial_1/bismark/SRX271141_R1_val_1_bismark_bt2_pe.deduplicated.bedGraph.gz\",\n",
    "    \"mode\": \"bisulfite\" ,\n",
    "    \"color\": \"orange\"\n",
    "})\n",
    "b3.load_track({\n",
    "    \"name\": \"SRX202087_bed\",\n",
    "    \"path\": \"Tutorial_1/bismark/SRX202087_R1_val_1_bismark_bt2_pe.deduplicated.bedGraph.gz\",\n",
    "    \"mode\": \"bisulfite\" ,\n",
    "    \"color\": \"orange\"\n",
    "})\n",
    "\n",
    "b3.load_track({\n",
    "    \"name\": \"SRX271142_bed\",\n",
    "    \"path\": \"Tutorial_1/bismark/SRX271142_R1_val_1_bismark_bt2_pe.deduplicated.bedGraph.gz\",\n",
    "    \"mode\": \"bisulfite\" ,\n",
    "    \"color\": \"blue\"\n",
    "})\n",
    "b3.load_track({\n",
    "    \"name\": \"SRX202088_bed\",\n",
    "    \"path\": \"Tutorial_1/bismark/SRX202088_R1_val_1_bismark_bt2_pe.deduplicated.bedGraph.gz\",\n",
    "    \"mode\": \"bisulfite\" ,\n",
    "    \"color\": \"blue\"\n",
    "})"
   ]
  },
  {
   "cell_type": "code",
   "execution_count": null,
   "id": "2c730ddb-5629-4b6d-b587-29978f688212",
   "metadata": {},
   "outputs": [],
   "source": [
    "# Zoom in to see a specific region in the above browser\n",
    "b3.search('chr6:4720,000-4800,000')"
   ]
  },
  {
   "cell_type": "markdown",
   "id": "342d9e7d-d775-497f-8e8e-cc9df3a49e4a",
   "metadata": {},
   "source": [
    "The above methylation profiles are line with the the authors' conclusion that: the covered cytosines are mostly methylated in\n",
    "male serum ESCs (SRX271141, SRX202087), while methylation in the 2i ESCs and serum ESCs (SRX271142, SRX202088) are much reduced. \n",
    "\n",
    "Summary from the publication: \"The use of two kinase inhibitors (2i) enables derivation of mouse embryonic stem cells (ESCs) in the pluripotent ground state. Using WGBS, we show that male 2i ESCs  are globally hypomethylated compared to conventional ESCs maintained in serum.\" -- [Habibi, Ehsan, et al. Cell stem cell 13.3 (2013): 360-369](https://pubmed.ncbi.nlm.nih.gov/23850244/)"
   ]
  },
  {
   "cell_type": "markdown",
   "id": "4b350372-20d2-45f1-8479-a54afa9b1777",
   "metadata": {},
   "source": [
    "## Terms & Quiz"
   ]
  },
  {
   "cell_type": "code",
   "execution_count": null,
   "id": "3c0f4e59-ffb3-4f80-9adf-ded3e75b4371",
   "metadata": {},
   "outputs": [],
   "source": [
    "! pip install jupytercards --quiet\n",
    "from jupytercards import display_flashcards\n",
    "display_flashcards('../quiz_files/f1.json')"
   ]
  },
  {
   "cell_type": "code",
   "execution_count": null,
   "id": "bf2d31cf-03e3-4ef6-970b-8f2ce5446cc9",
   "metadata": {},
   "outputs": [],
   "source": [
    "! pip install jupyterquiz --quiet\n",
    "from jupyterquiz import display_quiz\n",
    "display_quiz('../quiz_files/q1-1.json')"
   ]
  },
  {
   "cell_type": "markdown",
   "id": "2daba578",
   "metadata": {},
   "source": [
    "## Conclusion\n",
    "\n",
    "This tutorial provided a comprehensive walkthrough of the Bismark pipeline for WGBS data analysis within the AWS SageMaker notebook. We successfully demonstrated the process from raw FASTQ data to methylation calls, incorporating quality control steps with FastQC and MultiQC, adapter trimming with Trim Galore!, genome preparation and alignment with Bismark, deduplication, methylation extraction, and report generation. Finally, we visualized the methylation data using IGV, showcasing the hypomethylation observed in 2i-derived mouse ESCs compared to conventionally cultured ESCs, aligning with the findings of Habibi et al. (2013). This workflow provides a robust foundation for further downstream analyses, such as differential methylation analysis, which will be explored in subsequent tutorials. The generated methylation profiles (.bedGraph files) are ready for use in the next tutorial, highlighting the efficiency and reproducibility of this cloud-based approach."
   ]
  },
  {
   "cell_type": "markdown",
   "id": "f4d03545-2ea2-48fe-8b2c-a9a816267f1c",
   "metadata": {},
   "source": [
    "## Clean Up\n",
    "\n",
    "Transfer useful results back to an Amazon S3 bucket, and remove intermediate files. In this tutorial, the most important output files are the methylation profiles (.bedgraph.gz) of each sample. We will use these data to identify differentially methylated regions using metilene in the next tutorial.\n",
    "\n",
    "For example, you can upload/copy all the .bedgraph.gz files to the bucket you created in Amazon S3 by using:     \n",
    "`! aws s3 cp Tutorial_1/bismark/*.bedgraph.gz s3://BUCKET_NAME/bismark_results`\n",
    "\n",
    "You can also delete the whole directory with all the files generated in this notebook using:\n",
    "`! rm -rf Tutorial_1`"
   ]
  },
  {
   "cell_type": "markdown",
   "id": "bb567cc0-79e6-4e2e-ba77-6e699af27f8c",
   "metadata": {},
   "source": [
    "<div class=\"alert alert-block alert-danger\">\n",
    "    <i class=\"fa fa-exclamation-circle\" aria-hidden=\"true\"></i>\n",
    "    <b>Don't forget:</b> after finish running the notebook, stop the notebook in AWS SageMaker to avoid cost accumulation.\n",
    "</div>"
   ]
  }
 ],
 "metadata": {
  "language_info": {
   "name": "python"
  }
 },
 "nbformat": 4,
 "nbformat_minor": 5
}
