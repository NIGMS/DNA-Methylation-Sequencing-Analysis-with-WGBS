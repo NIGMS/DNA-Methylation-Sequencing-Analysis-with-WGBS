{
 "cells": [
  {
   "cell_type": "markdown",
   "id": "68d8723f-c078-43be-b457-ef23feb8c80c",
   "metadata": {
    "tags": []
   },
   "source": [
    "# The WGBS data analysis with new data\n",
    "\n",
    "In this notebook, we are going to explore how to run this module with a new dataset. These submodules provide a great framework for running a rigorous and scalable methylseq analysis, but there are some considerations that must be made in order to run this with your own data. We will walk through that process here so that hopefully, you are able to take these notebooks to your research group and use them for your own analysis. Notice that we do not give you all the answers in the code blocks, but if you get stuck, use the dropdowns for help. We will walk through it together in Tutorial 1 to run the Bismark stage of analysis. After you complete this tutorial, try to use the same logic to build out the other tutorials with this new dataset."
   ]
  },
  {
   "cell_type": "markdown",
   "id": "27af056b-5062-41e4-968c-d363e9420d7d",
   "metadata": {},
   "source": [
    "The dependencies are installed the same way, so we run the next few cells the same way as in Tutorial 1. Try to install mamba below."
   ]
  },
  {
   "cell_type": "code",
   "execution_count": null,
   "id": "f2d4f954-2881-43b9-9f32-839b5fd8a6b5",
   "metadata": {},
   "outputs": [],
   "source": [
    "<YOUR COMMAND HERE>"
   ]
  },
  {
   "cell_type": "code",
   "execution_count": null,
   "id": "e2d21e72-a4db-403c-9e00-d3ece6c0dc8c",
   "metadata": {},
   "outputs": [],
   "source": [
    "! conda install mamba -n base -c conda-forge -y"
   ]
  },
  {
   "cell_type": "markdown",
   "id": "4d1cd3f7-38f0-4606-8b3c-0c5c6dc26fe2",
   "metadata": {},
   "source": [
    "Next, use mamba to install the tools needed for this analysis: fastqc, multiqc bismark, trim-galore, bedtools, samtools, and metilene. Remember to set the channel to bioconda in order to access the bioinformatics tools."
   ]
  },
  {
   "cell_type": "code",
   "execution_count": null,
   "id": "a79de905-dc75-4d6f-a7a3-419069233bf3",
   "metadata": {},
   "outputs": [],
   "source": [
    "<YOUR COMMAND HERE>"
   ]
  },
  {
   "cell_type": "markdown",
   "id": "1ae0368b-f4d2-47f3-899f-ab638a0ceb69",
   "metadata": {},
   "source": [
    "! mamba install -y -c conda-forge -c bioconda \\\n",
    "    fastqc=0.11.9 \\\n",
    "    multiqc=1.13 \\\n",
    "    bismark=0.23.1 \\\n",
    "    trim-galore=0.6.7 \\\n",
    "    bedtools=2.30.0 \\\n",
    "    samtools=1.15.1 \\\n",
    "    metilene=0.2.8"
   ]
  },
  {
   "cell_type": "markdown",
   "id": "4ccc3f4b-bdc8-40f3-be16-ade14562ad24",
   "metadata": {
    "tags": []
   },
   "source": [
    "---\n",
    "## **Importing the example dataset**"
   ]
  },
  {
   "cell_type": "markdown",
   "id": "374f0472-ace6-4bec-918e-a9cb6eebec2b",
   "metadata": {
    "jupyter": {
     "outputs_hidden": true
    },
    "tags": []
   },
   "source": [
    "#### Set up the environment\n",
    "As before, we are going to set up the directory structure to keep everything organized. We will change `Tutorial_1` to `Tutorial_5`. Use the `mdkir` commands to create your directory structure below."
   ]
  },
  {
   "cell_type": "code",
   "execution_count": null,
   "id": "1c405c48-d374-4f54-a16a-6c61e75a7bce",
   "metadata": {},
   "outputs": [],
   "source": [
    "<YOUR COMMAND HERE>"
   ]
  },
  {
   "cell_type": "markdown",
   "id": "4b2a90ef-606a-40f0-9d0b-d334f9d9b154",
   "metadata": {},
   "source": [
    "# Show current working directory\n",
    "!pwd\n",
    "# Create directories\n",
    "!mkdir -p Tutorial_5\n",
    "!mkdir -p Tutorial_5/ref_genome\n",
    "!mkdir -p Tutorial_5/fastqc\n",
    "!mkdir -p Tutorial_5/trimmed\n",
    "!mkdir -p Tutorial_5/fastq"
   ]
  },
  {
   "cell_type": "markdown",
   "id": "cd74464d-d6c3-4388-822b-3ca3ebb93934",
   "metadata": {
    "tags": []
   },
   "source": [
    "#### About the new dataset\n",
    "\n",
    "Our new dataset comes from a paper by [Hadad et al. Epigenetics Chromatin. 2019](https://www.ncbi.nlm.nih.gov/pmc/articles/PMC6781367/) that compares methylation changes in mice as they age and correlates those changes to gene expression changes. The data is available in SRA under the bioProject number [PRJNA523985](https://www.ncbi.nlm.nih.gov/sra/?term=PRJNA523985). The impact of methylation on aging, particularly in brain tissue, is of great research interest. The paper makes several comparisons, but to keep this tutorial simple we only pulled the samples of young and old female mice. We also subsamples the data to 10% of the reads on SRA, otherwise the data would be very large and would require long compute times and higher costs than would be appropriate for a tutorial.\n",
    "\n",
    "\n",
    "#### Download example dataset and reference genome from Google Cloud Storage bucket\n",
    "\n",
    "This WGBS example dataset was stored in a **Google Cloud Storage bucket**. You can use `gsutil` commands to access and manage the cloud storage. \n",
    "\n",
    "To download this example dataset, we need to get the fastq.gz files, the samplesheet (.tsv), and the CpG island annotation file (.bed) from the storage bucket to the Tutorial_5 directory we just created using `gsutil cp`. In the cell below, type the commands to do this."
   ]
  },
  {
   "cell_type": "code",
   "execution_count": null,
   "id": "f2d9fb4f-29f1-438d-bc32-5a667add501a",
   "metadata": {},
   "outputs": [],
   "source": [
    "<YOUR COMMAND HERE>"
   ]
  },
  {
   "cell_type": "markdown",
   "id": "74058795-6a9c-4dd1-8fb0-44d9d29899b3",
   "metadata": {
    "tags": []
   },
   "source": [
    "# Download the example dataset from a Google Cloud Storage bucket\n",
    "! gsutil cp gs://nigms-sandbox/dna-methyl/*.fastq.gz Tutorial_5/fastq\n",
    "# Download the samplesheet\n",
    "! gsutil cp gs://nigms-sandbox/dna-methyl/*.tsv Tutorial_5/\n",
    "# Download the bed file\n",
    "! gsutil cp gs://nigms-sandbox/dna-methyl/*.bed Tutorial_5/\n"
   ]
  },
  {
   "cell_type": "markdown",
   "id": "4f4f8d31-1035-4ec9-bcaf-1d34493d8b07",
   "metadata": {},
   "source": [
    "Next download the **reference genome** in the same way and place it in the `ref_genome` folder. The genome should be in FASTA format, and can be downloaded from NCBI or Ensemble websites. As before, we will only use the sequences from GRCm39 chromosome 6."
   ]
  },
  {
   "cell_type": "code",
   "execution_count": null,
   "id": "f83cf634-1bed-4fa4-9428-77616d696943",
   "metadata": {},
   "outputs": [],
   "source": [
    "<YOUR COMMAND HERE>"
   ]
  },
  {
   "cell_type": "markdown",
   "id": "e0315ed0-4895-42b8-9c77-db215cc6d426",
   "metadata": {},
   "source": [
    "! gsutil cp gs://nigms-sandbox/dna-methyl/Mus_musculus.GRCm39.dna.chromosome.6.fa Tutorial_5/ref_genome"
   ]
  },
  {
   "cell_type": "markdown",
   "id": "2e531a87-97ae-4092-8a50-54170070306c",
   "metadata": {
    "tags": []
   },
   "source": [
    "---\n",
    "## **Running Bismark pipeline**\n",
    "\n",
    "#### Step 1. FastQC \n",
    "\n",
    "As before, we start with [**FastQC**](https://www.bioinformatics.babraham.ac.uk/projects/fastqc/) to evaluate the quality of the sequence data we got from SRA. Write a command below to run FastQC on the new data."
   ]
  },
  {
   "cell_type": "code",
   "execution_count": null,
   "id": "579e18ff-3d36-4e5f-a00f-a1bd013c5de4",
   "metadata": {},
   "outputs": [],
   "source": [
    "<YOUR COMMAND HERE>"
   ]
  },
  {
   "cell_type": "markdown",
   "id": "218020d2-be9a-4a4c-b2c1-2c4117c47ba8",
   "metadata": {
    "tags": []
   },
   "source": [
    "! for file in Tutorial_5/fastq/*.gz; do fastqc -q -o Tutorial_5/fastqc \"${file}\"; done;"
   ]
  },
  {
   "cell_type": "markdown",
   "id": "4a108da6-fb87-4050-b1de-476a4be641ea",
   "metadata": {
    "tags": []
   },
   "source": [
    "#### Step 2. MultiQC (optional)\n",
    "Next, we will use __[MultiQC](https://multiqc.info/)__ to aggregate results from across the samples into a single report. As before, save the output in `Tutorial_5/multiqc`. Below, write the commands to create the report and then view it as an html file."
   ]
  },
  {
   "cell_type": "code",
   "execution_count": null,
   "id": "0c6cbb6d-a7f6-4826-b0cc-299699ac1d6e",
   "metadata": {},
   "outputs": [],
   "source": [
    "<YOUR COMMAND HERE>"
   ]
  },
  {
   "cell_type": "code",
   "execution_count": null,
   "id": "cd0711bd-cca5-46c8-a4bc-de09600a6678",
   "metadata": {
    "tags": []
   },
   "outputs": [],
   "source": [
    "# Run multiqc to summarize all the fastqc reports\n",
    "!multiqc -f -p  Tutorial_5/fastqc -o Tutorial_5/multiqc\n",
    "\n",
    "# View multiqc report\n",
    "from IPython.display import IFrame\n",
    "IFrame(src='Tutorial_5/multiqc/multiqc_report.html', width=1200, height=400)"
   ]
  },
  {
   "cell_type": "markdown",
   "id": "3cbdf7bb-58eb-412f-8a51-c48c2269da58",
   "metadata": {},
   "source": [
    "#### Step 3. Trim the adapters and low quality sequence reads\n",
    "\n",
    "Adapter sequences should be removed from reads because they interfere with downstream analyses, such as alignment of reads to a reference.\n",
    "\n",
    "As before, we will use __[Trim Galore!](https://www.bioinformatics.babraham.ac.uk/projects/trim_galore/)__ for adaptor trimming and quality control. Using the Tutorial 1 trim_galore command as a template, write a command to run trim_galore on your reads. Use wildcards to match your fastq files."
   ]
  },
  {
   "cell_type": "code",
   "execution_count": null,
   "id": "45d97717-e599-4fd7-a3a9-e955f0c83e26",
   "metadata": {},
   "outputs": [],
   "source": [
    "<YOUR COMMAND HERE>"
   ]
  },
  {
   "cell_type": "code",
   "execution_count": null,
   "id": "eccd04d7-0603-474b-bbf9-63b1134685e3",
   "metadata": {
    "scrolled": true,
    "tags": []
   },
   "outputs": [],
   "source": [
    "! trim_galore -j 4 --paired --illumina -o Tutorial_5/trimmed --fastqc Tutorial_5/fastq/SRR*.gz"
   ]
  },
  {
   "cell_type": "markdown",
   "id": "1070cc02-b431-449b-bfdf-8d28e0d0134c",
   "metadata": {},
   "source": [
    "#### Step 4. Genome preparation\n",
    "\n",
    "In order to align the bisulfite-treated reads to reference genome, the reference genome need to be converted as well. \n",
    "\n",
    "Write the command below to prepare the reference genome. Do we need to change anything? Or can we leave it the same as with Tutorial 1? What factors do you need to consider to determine this?"
   ]
  },
  {
   "cell_type": "code",
   "execution_count": null,
   "id": "5e8d70b3-f28f-4418-95ec-41d4e22e6254",
   "metadata": {},
   "outputs": [],
   "source": [
    "<YOUR COMMAND HERE>"
   ]
  },
  {
   "cell_type": "markdown",
   "id": "9d2b015e-5cc7-4e68-8660-0dd865c78641",
   "metadata": {
    "tags": []
   },
   "source": [
    "\n",
    "Since we are using the same reference genome, the command stays the same. The only change we need to make is to the path where it is stored.\n",
    "! bismark_genome_preparation Tutorial_5/ref_genome"
   ]
  },
  {
   "cell_type": "markdown",
   "id": "b56945ac-bde8-41dc-b8b5-6299032627fd",
   "metadata": {
    "tags": []
   },
   "source": [
    "#### Step 5. Run Bismark (alignment)\n",
    "\n",
    "We next run Bismark to align the reads to the reference genome. If you recall from Tutorial 1, the usage for Bismark is:\n",
    "\n",
    "`bismark [options] --genome <genome_folder> {-1 <mates1> -2 <mates2> | <singles>}`\n",
    "\n",
    "In the command block below, write your adapted Bismark command for your new dataset."
   ]
  },
  {
   "cell_type": "code",
   "execution_count": null,
   "id": "8f0e14cc-42b1-4362-ae06-0b9c4b788511",
   "metadata": {},
   "outputs": [],
   "source": [
    "<YOUR COMMAND HERE>"
   ]
  },
  {
   "cell_type": "code",
   "execution_count": null,
   "id": "04cb9059-795f-4319-9d4e-c5e0b4fcc3c2",
   "metadata": {
    "scrolled": true,
    "tags": []
   },
   "outputs": [],
   "source": [
    "! for file_name in Tutorial_5/trimmed/*_R1_val_1.fq.gz; do \\\n",
    "    bismark --genome Tutorial_5/ref_genome/ -1 ${file_name} -2 ${file_name//_R1_val_1/_R2_val_2} -o Tutorial_5/bismark; \\\n",
    "done;"
   ]
  },
  {
   "cell_type": "markdown",
   "id": "61be513c-5bdf-42a9-a03b-ed41d771c120",
   "metadata": {
    "tags": []
   },
   "source": [
    "#### Step 6. De-duplicate \n",
    "\n",
    "Recall from Tutorial 1 that a high level of duplication is more likely to indicate some kind of enrichment bias (eg PCR over amplification). To mitigate that potential bias, we will run a de-duplication process on our alignments.\n",
    " \n",
    "> <img src=\"images/1_complex_library.png\" width=\"500\"/>   \n",
    "\n",
    "In the command block below, write your `deduplicate_bismark` command with your new data."
   ]
  },
  {
   "cell_type": "code",
   "execution_count": null,
   "id": "5146895c-8e09-493d-821a-8aa053d67f24",
   "metadata": {},
   "outputs": [],
   "source": [
    "<YOUR COMMAND HERE>"
   ]
  },
  {
   "cell_type": "code",
   "execution_count": null,
   "id": "366ca6d4-fa60-402a-9594-9ec6dea1ba13",
   "metadata": {
    "scrolled": true,
    "tags": []
   },
   "outputs": [],
   "source": [
    "! deduplicate_bismark -p --output_dir Tutorial_1/bismark --bam Tutorial_1/bismark/*.bam "
   ]
  },
  {
   "cell_type": "markdown",
   "id": "e7e02055-79c7-4f77-9669-43fd62479ff3",
   "metadata": {
    "tags": []
   },
   "source": [
    "#### Step 7. Get methylation ratios \n",
    "\n",
    "This step operates on Bismark alignment files and extracts the methylation call for every single C analyzed. Think about what command is used to do this. What input files do you need? Do you need to change any flags for this run? What directory do you need to write the output to? Write your command in the cell below try it out."
   ]
  },
  {
   "cell_type": "code",
   "execution_count": null,
   "id": "3842a4f4-ba74-4ea8-a50c-86e3d1031e46",
   "metadata": {},
   "outputs": [],
   "source": [
    "<YOUR COMMAND HERE>"
   ]
  },
  {
   "cell_type": "code",
   "execution_count": null,
   "id": "0052c588-c443-4f77-9e28-7fcb9fb6fedf",
   "metadata": {
    "scrolled": true,
    "tags": []
   },
   "outputs": [],
   "source": [
    "!bismark_methylation_extractor --gzip --bedGraph --ignore_r2 2 -o Tutorial_1/bismark Tutorial_1/bismark/*deduplicated.bam"
   ]
  },
  {
   "cell_type": "markdown",
   "id": "9855179f-507f-4c04-8559-6b41ad4f9cdd",
   "metadata": {},
   "source": [
    "As a sanity check, look at the first few lines of a couple output files."
   ]
  },
  {
   "cell_type": "code",
   "execution_count": null,
   "id": "439c1191-832d-483f-8cb4-dcefc1dd78f5",
   "metadata": {},
   "outputs": [],
   "source": [
    "<YOUR COMMAND HERE>"
   ]
  },
  {
   "cell_type": "code",
   "execution_count": null,
   "id": "5f789349-40ec-4d25-b308-c2772094c549",
   "metadata": {},
   "outputs": [],
   "source": [
    "! zcat Tutorial_5/bismark/SRX202087_R1_val_1_bismark_bt2_pe.deduplicated.bedGraph.gz | head -n 10"
   ]
  },
  {
   "cell_type": "code",
   "execution_count": null,
   "id": "ff63dfc6-e0c2-4210-99ed-edd100dab334",
   "metadata": {},
   "outputs": [],
   "source": [
    "! zcat Tutorial_5/bismark/SRX202087_R1_val_1_bismark_bt2_pe.deduplicated.bismark.cov.gz | head -n 10"
   ]
  },
  {
   "cell_type": "markdown",
   "id": "c868907a-2278-4c3c-8b49-4f734ad149ab",
   "metadata": {
    "tags": []
   },
   "source": [
    "#### Step 8. Generate report and summary \n",
    "Finally, generate a report and summary of the analysis."
   ]
  },
  {
   "cell_type": "code",
   "execution_count": null,
   "id": "aea84f5c-c30a-456c-be38-6c7c02560093",
   "metadata": {},
   "outputs": [],
   "source": [
    "<YOUR COMMAND HERE>"
   ]
  },
  {
   "cell_type": "code",
   "execution_count": null,
   "id": "8c554e5f-5cec-4fe8-a16f-fb94d8b1fb3b",
   "metadata": {
    "scrolled": true,
    "tags": []
   },
   "outputs": [],
   "source": [
    "! cd Tutorial_5/bismark && bismark2report\n",
    "! cd Tutorial_5/bismark && bismark2summary"
   ]
  },
  {
   "cell_type": "code",
   "execution_count": null,
   "id": "ffc7edfb-869a-42b2-98e3-2e9e79547beb",
   "metadata": {
    "tags": []
   },
   "outputs": [],
   "source": [
    "# Display the final summary from bismark workflow, including all 4 samples\n",
    "from IPython.display import IFrame\n",
    "IFrame(src='Tutorial_1/bismark/bismark_summary_report.html', width=1000, height=400)"
   ]
  },
  {
   "cell_type": "markdown",
   "id": "269514d7-5ead-4176-ba11-b211041b75a9",
   "metadata": {},
   "source": [
    "#### Important output files for downstream analysis\n",
    "\n",
    "The Bismark methylation extractor (step 7) can output files in `.bedGraph` and `.cov` format with the methylation levels (percentage of methylated cytosine) at each position. These files can be used as input for downstream analysis, such as identification of differentially methylated regions.\n"
   ]
  },
  {
   "cell_type": "markdown",
   "id": "bb468d2f-9023-498e-918e-3053d33efdc9",
   "metadata": {
    "tags": []
   },
   "source": [
    "---\n",
    "## **Visualization using IGV (Integrative Genomics Viewer)**\n",
    "\n",
    "Let's look at our recently analyzed data with Integrative Genomics Viewer. Remember the three basic steps of using IGV as you load your new data.\n",
    "\n",
    "#### Basic usage\n",
    "- Select reference genome - IGV hosts dozens of genomes and you can load other genomes too\n",
    "- Load data tracks\n",
    "- Navigate"
   ]
  },
  {
   "cell_type": "markdown",
   "id": "351d564e-e539-4e41-84e0-e6a30db62ea9",
   "metadata": {},
   "source": [
    "#### Install `igv-notebook` \n",
    "\n",
    "Install igv-notebook with pip."
   ]
  },
  {
   "cell_type": "code",
   "execution_count": null,
   "id": "f078cf79-8a95-4eef-b94d-f871ad625aa0",
   "metadata": {},
   "outputs": [],
   "source": [
    "<YOUR COMMAND HERE>"
   ]
  },
  {
   "cell_type": "code",
   "execution_count": null,
   "id": "9cbdcef8-9571-49b3-a540-fd75172bfc02",
   "metadata": {},
   "outputs": [],
   "source": [
    "! pip install igv-notebook"
   ]
  },
  {
   "cell_type": "markdown",
   "id": "e7071182-60b9-42f6-8ea9-2beffb2e47f1",
   "metadata": {},
   "source": [
    "Create a browser and load your reference genome."
   ]
  },
  {
   "cell_type": "code",
   "execution_count": null,
   "id": "972fd6de-ae71-4168-86a7-1952c1717565",
   "metadata": {},
   "outputs": [],
   "source": [
    "<YOUR COMMAND BELOW>"
   ]
  },
  {
   "cell_type": "code",
   "execution_count": null,
   "id": "32d5808b-91d7-4d37-88cb-3914f2ae8a20",
   "metadata": {},
   "outputs": [],
   "source": [
    "import igv_notebook\n",
    "igv_notebook.init()\n",
    "\n",
    "b = igv_notebook.Browser(\n",
    "    {\n",
    "        \"genome\": \"mm39\",\n",
    "        \"locus\": \"chr6:4,733,000-4,749,000\"\n",
    "    }\n",
    ")"
   ]
  },
  {
   "cell_type": "markdown",
   "id": "2210a9a3-050d-4274-bbde-e8584cc512fa",
   "metadata": {},
   "source": [
    "Next, load the data tracks. This requires a sorted and indexed bam files. Write the command below to do that."
   ]
  },
  {
   "cell_type": "code",
   "execution_count": null,
   "id": "30bbae5d-0b4c-4fbb-9842-cb03eb0db181",
   "metadata": {},
   "outputs": [],
   "source": [
    "<YOUR COMMAND HERE>"
   ]
  },
  {
   "cell_type": "code",
   "execution_count": null,
   "id": "69a806b1-5c21-499f-918f-d82f6e5dc10f",
   "metadata": {},
   "outputs": [],
   "source": [
    "for i in Tutorial_5/bismark/*deduplicated.bam; do samtools sort $i -o $i.sort.bam; samtools index $i.sort.bam;done\n",
    "for f in Tutorial_5/bismark/*sort.bam* ; do mv \"$f\" \"$(echo \"$f\" | sed s/_R1_val_1_bismark_bt2_pe.deduplicated.bam//)\"; done"
   ]
  },
  {
   "cell_type": "markdown",
   "id": "156e533b-b111-4788-883b-ecd5811619b3",
   "metadata": {},
   "source": [
    "#### Load and view the alignment file (and its index) to igv-notebook.\n",
    "\n",
    "Start a new browser \"b2\", and load one of sample alignment .bam and its index file .bai into the browser:"
   ]
  },
  {
   "cell_type": "code",
   "execution_count": null,
   "id": "0c520603-3fc7-4b53-9836-b3d849b032b3",
   "metadata": {},
   "outputs": [],
   "source": [
    "<YOUR COMMAND HERE>"
   ]
  },
  {
   "cell_type": "code",
   "execution_count": null,
   "id": "24117698-6013-4a55-bd91-dea1a7f8c61e",
   "metadata": {},
   "outputs": [],
   "source": [
    "b2 = igv_notebook.Browser(\n",
    "    {\n",
    "       \"genome\": \"mm39\",\n",
    "       \"locus\": \"chr6:4,733,000-4,749,000\"\n",
    "    }\n",
    ")\n",
    "b2.load_track({\n",
    "    \"name\": \"SRX271141\",\n",
    "    \"path\": \"Tutorial_1/bismark/NAME.sort.bam\",\n",
    "    \"indexPath\": \"Tutorial_1/bismark/NAME.sort.bam.bai\",\n",
    "    \"format\": \"bam\",\n",
    "    \"type\": \"alignment\",\n",
    "})"
   ]
  },
  {
   "cell_type": "markdown",
   "id": "da63305e-8015-4639-bb7f-4b04a0504105",
   "metadata": {},
   "source": [
    "<div class=>"
   ]
  },
  {
   "cell_type": "markdown",
   "id": "b0ac59d7-0997-4208-870f-08c10e1ff92c",
   "metadata": {},
   "source": [
    "#### View the methylation levels (.bedgraph files)\n",
    "\n",
    "Next, load the bedgraph files to view the methylation percentage at each position. "
   ]
  },
  {
   "cell_type": "code",
   "execution_count": null,
   "id": "599856a9-891c-426b-bd43-4e6afbb69a27",
   "metadata": {},
   "outputs": [],
   "source": [
    "<YOUR COMMAND HERE>"
   ]
  },
  {
   "cell_type": "code",
   "execution_count": null,
   "id": "453a0786-2013-4e7f-8b26-6bcb7c2c27f4",
   "metadata": {
    "tags": []
   },
   "outputs": [],
   "source": [
    "b3 = igv_notebook.Browser(\n",
    "    {\n",
    "       \"genome\": \"mm39\",\n",
    "        \"locus\": \"chr6:4,500,000-5,500,000\"\n",
    "    }\n",
    ")\n",
    "b3.load_track({\n",
    "    \"name\": \"SRX271141_bed\",\n",
    "    \"path\": \"Tutorial_1/bismark/SRX271141_R1_val_1_bismark_bt2_pe.deduplicated.bedGraph.gz\",\n",
    "    \"mode\": \"bisulfite\" ,\n",
    "    \"color\": \"orange\"\n",
    "})\n",
    "b3.load_track({\n",
    "    \"name\": \"SRX202087_bed\",\n",
    "    \"path\": \"Tutorial_1/bismark/SRX202087_R1_val_1_bismark_bt2_pe.deduplicated.bedGraph.gz\",\n",
    "    \"mode\": \"bisulfite\" ,\n",
    "    \"color\": \"orange\"\n",
    "})\n",
    "\n",
    "b3.load_track({\n",
    "    \"name\": \"SRX271142_bed\",\n",
    "    \"path\": \"Tutorial_1/bismark/SRX271142_R1_val_1_bismark_bt2_pe.deduplicated.bedGraph.gz\",\n",
    "    \"mode\": \"bisulfite\" ,\n",
    "    \"color\": \"blue\"\n",
    "})\n",
    "b3.load_track({\n",
    "    \"name\": \"SRX202088_bed\",\n",
    "    \"path\": \"Tutorial_1/bismark/SRX202088_R1_val_1_bismark_bt2_pe.deduplicated.bedGraph.gz\",\n",
    "    \"mode\": \"bisulfite\" ,\n",
    "    \"color\": \"blue\"\n",
    "})"
   ]
  },
  {
   "cell_type": "code",
   "execution_count": null,
   "id": "2c730ddb-5629-4b6d-b587-29978f688212",
   "metadata": {},
   "outputs": [],
   "source": [
    "# Zoom in to see a specific region in the above browser\n",
    "b3.search('chr6:4720,000-4800,000')"
   ]
  }
 ],
 "metadata": {
  "environment": {
   "kernel": "python3",
   "name": "common-cpu.m113",
   "type": "gcloud",
   "uri": "gcr.io/deeplearning-platform-release/base-cpu:m113"
  },
  "kernelspec": {
   "display_name": "Python 3",
   "language": "python",
   "name": "python3"
  },
  "language_info": {
   "codemirror_mode": {
    "name": "ipython",
    "version": 3
   },
   "file_extension": ".py",
   "mimetype": "text/x-python",
   "name": "python",
   "nbconvert_exporter": "python",
   "pygments_lexer": "ipython3",
   "version": "3.10.13"
  }
 },
 "nbformat": 4,
 "nbformat_minor": 5
}
